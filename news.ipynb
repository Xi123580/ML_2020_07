{
  "nbformat": 4,
  "nbformat_minor": 0,
  "metadata": {
    "colab": {
      "name": "news.ipynb",
      "provenance": [],
      "mount_file_id": "1nuZVLiVp7o3raS-KG6qP24L6izLjUX6e",
      "authorship_tag": "ABX9TyMND0qMSNmhBsD6WflItmsL",
      "include_colab_link": true
    },
    "kernelspec": {
      "name": "python3",
      "display_name": "Python 3"
    }
  },
  "cells": [
    {
      "cell_type": "markdown",
      "metadata": {
        "id": "view-in-github",
        "colab_type": "text"
      },
      "source": [
        "<a href=\"https://colab.research.google.com/github/text123580/ml20200716/blob/master/news.ipynb\" target=\"_parent\"><img src=\"https://colab.research.google.com/assets/colab-badge.svg\" alt=\"Open In Colab\"/></a>"
      ]
    },
    {
      "cell_type": "code",
      "metadata": {
        "id": "5ShOxkZe0Wuz",
        "colab_type": "code",
        "colab": {
          "base_uri": "https://localhost:8080/",
          "height": 34
        },
        "outputId": "dcf4b76d-9f71-412d-8640-44906c3beefe"
      },
      "source": [
        "from google.colab import drive\n",
        "drive.mount('/content/drive')"
      ],
      "execution_count": 7,
      "outputs": [
        {
          "output_type": "stream",
          "text": [
            "Drive already mounted at /content/drive; to attempt to forcibly remount, call drive.mount(\"/content/drive\", force_remount=True).\n"
          ],
          "name": "stdout"
        }
      ]
    },
    {
      "cell_type": "code",
      "metadata": {
        "id": "LcNknc3VzRk4",
        "colab_type": "code",
        "colab": {}
      },
      "source": [
        "import zipfile\n",
        "f = zipfile.ZipFile(\"drive/My Drive/AI_04/test0724/chinese_news_trans.zip\")\n",
        "f.extractall(\"train\")\n",
        "f = zipfile.ZipFile(\"drive/My Drive/AI_04/test0724/chinese_news_test.zip\")\n",
        "f.extractall(\"test\")"
      ],
      "execution_count": 8,
      "outputs": []
    },
    {
      "cell_type": "code",
      "metadata": {
        "id": "3r8bCy6LqLVY",
        "colab_type": "code",
        "colab": {}
      },
      "source": [
        "import glob\n",
        "import os\n",
        "import pandas as pd\n",
        "\n",
        "def getdf(targetdn):\n",
        "    datas = {\n",
        "        \"path\":[],\n",
        "        \"label\":[]\n",
        "    }\n",
        "    base = \"\"\n",
        "    p = os.path.join(base, targetdn, \"*\")\n",
        "    for dn in glob.glob(p):\n",
        "        name = os.path.split(dn)[-1]\n",
        "        fn = os.path.join(dn, \"*.[tT][xX][tT]\")\n",
        "        fns = glob.glob(fn)\n",
        "        datas[\"label\"] = datas[\"label\"] + [name] * len(fns)\n",
        "        datas[\"path\"] = datas[\"path\"] + fns\n",
        "    return pd.DataFrame(datas)"
      ],
      "execution_count": 9,
      "outputs": []
    },
    {
      "cell_type": "code",
      "metadata": {
        "id": "9axBpgIlvunU",
        "colab_type": "code",
        "colab": {}
      },
      "source": [
        "train_df = getdf(\"train/chinese_news_trans\")\n",
        "test_df = getdf(\"test/chinese_news_test\")"
      ],
      "execution_count": 10,
      "outputs": []
    },
    {
      "cell_type": "code",
      "metadata": {
        "id": "eU5Wy-AKvvaH",
        "colab_type": "code",
        "colab": {}
      },
      "source": [
        "def read_content(fn):\n",
        "    with open(fn, \"r\", encoding=\"utf-8\") as f:\n",
        "        content = f.read()\n",
        "    return content\n",
        "train_df[\"content\"] = train_df[\"path\"].apply(read_content)\n",
        "test_df[\"content\"] = test_df[\"path\"].apply(read_content)"
      ],
      "execution_count": 11,
      "outputs": []
    },
    {
      "cell_type": "code",
      "metadata": {
        "id": "zIYDfgJYyw2B",
        "colab_type": "code",
        "colab": {
          "base_uri": "https://localhost:8080/",
          "height": 419
        },
        "outputId": "519639f2-b55f-47f8-89ff-79602b096ccc"
      },
      "source": [
        "train_df"
      ],
      "execution_count": 12,
      "outputs": [
        {
          "output_type": "execute_result",
          "data": {
            "text/html": [
              "<div>\n",
              "<style scoped>\n",
              "    .dataframe tbody tr th:only-of-type {\n",
              "        vertical-align: middle;\n",
              "    }\n",
              "\n",
              "    .dataframe tbody tr th {\n",
              "        vertical-align: top;\n",
              "    }\n",
              "\n",
              "    .dataframe thead th {\n",
              "        text-align: right;\n",
              "    }\n",
              "</style>\n",
              "<table border=\"1\" class=\"dataframe\">\n",
              "  <thead>\n",
              "    <tr style=\"text-align: right;\">\n",
              "      <th></th>\n",
              "      <th>path</th>\n",
              "      <th>label</th>\n",
              "      <th>content</th>\n",
              "    </tr>\n",
              "  </thead>\n",
              "  <tbody>\n",
              "    <tr>\n",
              "      <th>0</th>\n",
              "      <td>train/chinese_news_trans/軍事/813.TXT</td>\n",
              "      <td>軍事</td>\n",
              "      <td>古巴宣佈舉行軍事演習\\n新華社哈瓦那５月１日電古巴革命武裝部今晚發表公...</td>\n",
              "    </tr>\n",
              "    <tr>\n",
              "      <th>1</th>\n",
              "      <td>train/chinese_news_trans/軍事/8223.txt</td>\n",
              "      <td>軍事</td>\n",
              "      <td>\\n美國空軍改進B-1B轟炸機的電子戰系統(附圖) \\n\\n----------------...</td>\n",
              "    </tr>\n",
              "    <tr>\n",
              "      <th>2</th>\n",
              "      <td>train/chinese_news_trans/軍事/8123.TXT</td>\n",
              "      <td>軍事</td>\n",
              "      <td>１枚導彈致１２０名阿富汗人傷亡\\n新華社伊斯蘭堡５月２２日電阿富汗游擊...</td>\n",
              "    </tr>\n",
              "    <tr>\n",
              "      <th>3</th>\n",
              "      <td>train/chinese_news_trans/軍事/871.TXT</td>\n",
              "      <td>軍事</td>\n",
              "      <td>馬達加斯加發生軍事政變\\n新華社塔那那利佛５月１３日電據馬達加斯加電臺...</td>\n",
              "    </tr>\n",
              "    <tr>\n",
              "      <th>4</th>\n",
              "      <td>train/chinese_news_trans/軍事/889.TXT</td>\n",
              "      <td>軍事</td>\n",
              "      <td>緬甸取消部份地區軍事管制\\n新華社仰光５月１５日電據緬甸之聲電臺報道，...</td>\n",
              "    </tr>\n",
              "    <tr>\n",
              "      <th>...</th>\n",
              "      <td>...</td>\n",
              "      <td>...</td>\n",
              "      <td>...</td>\n",
              "    </tr>\n",
              "    <tr>\n",
              "      <th>2632</th>\n",
              "      <td>train/chinese_news_trans/政治/954.TXT</td>\n",
              "      <td>政治</td>\n",
              "      <td>李鵬同奧其爾巴特舉行會談\\n新華社北京５月４日電（記者楊子迪）國務院總...</td>\n",
              "    </tr>\n",
              "    <tr>\n",
              "      <th>2633</th>\n",
              "      <td>train/chinese_news_trans/政治/9463.TXT</td>\n",
              "      <td>政治</td>\n",
              "      <td>多米尼加共和國中止大選計票工作\\n新華社北京５月２１日電聖多明各消息：...</td>\n",
              "    </tr>\n",
              "    <tr>\n",
              "      <th>2634</th>\n",
              "      <td>train/chinese_news_trans/政治/9195.TXT</td>\n",
              "      <td>政治</td>\n",
              "      <td>泰國公主瓦塔娜離泰訪華\\n新華社曼谷５月１０日電泰國公主甘拉亞妮·瓦塔...</td>\n",
              "    </tr>\n",
              "    <tr>\n",
              "      <th>2635</th>\n",
              "      <td>train/chinese_news_trans/政治/9444.TXT</td>\n",
              "      <td>政治</td>\n",
              "      <td>伊駐英使館稱收到裝有電子元件的匿名信\\n新華社倫敦５月２１日電（記者王...</td>\n",
              "    </tr>\n",
              "    <tr>\n",
              "      <th>2636</th>\n",
              "      <td>train/chinese_news_trans/政治/9352.TXT</td>\n",
              "      <td>政治</td>\n",
              "      <td>法共召開中央全會\\n新華社巴黎５月１５日電法國共產黨中央委員會全體\\n...</td>\n",
              "    </tr>\n",
              "  </tbody>\n",
              "</table>\n",
              "<p>2637 rows × 3 columns</p>\n",
              "</div>"
            ],
            "text/plain": [
              "                                      path  ...                                            content\n",
              "0      train/chinese_news_trans/軍事/813.TXT  ...             古巴宣佈舉行軍事演習\\n新華社哈瓦那５月１日電古巴革命武裝部今晚發表公...\n",
              "1     train/chinese_news_trans/軍事/8223.txt  ...  \\n美國空軍改進B-1B轟炸機的電子戰系統(附圖) \\n\\n----------------...\n",
              "2     train/chinese_news_trans/軍事/8123.TXT  ...             １枚導彈致１２０名阿富汗人傷亡\\n新華社伊斯蘭堡５月２２日電阿富汗游擊...\n",
              "3      train/chinese_news_trans/軍事/871.TXT  ...             馬達加斯加發生軍事政變\\n新華社塔那那利佛５月１３日電據馬達加斯加電臺...\n",
              "4      train/chinese_news_trans/軍事/889.TXT  ...             緬甸取消部份地區軍事管制\\n新華社仰光５月１５日電據緬甸之聲電臺報道，...\n",
              "...                                    ...  ...                                                ...\n",
              "2632   train/chinese_news_trans/政治/954.TXT  ...             李鵬同奧其爾巴特舉行會談\\n新華社北京５月４日電（記者楊子迪）國務院總...\n",
              "2633  train/chinese_news_trans/政治/9463.TXT  ...             多米尼加共和國中止大選計票工作\\n新華社北京５月２１日電聖多明各消息：...\n",
              "2634  train/chinese_news_trans/政治/9195.TXT  ...             泰國公主瓦塔娜離泰訪華\\n新華社曼谷５月１０日電泰國公主甘拉亞妮·瓦塔...\n",
              "2635  train/chinese_news_trans/政治/9444.TXT  ...             伊駐英使館稱收到裝有電子元件的匿名信\\n新華社倫敦５月２１日電（記者王...\n",
              "2636  train/chinese_news_trans/政治/9352.TXT  ...             法共召開中央全會\\n新華社巴黎５月１５日電法國共產黨中央委員會全體\\n...\n",
              "\n",
              "[2637 rows x 3 columns]"
            ]
          },
          "metadata": {
            "tags": []
          },
          "execution_count": 12
        }
      ]
    },
    {
      "cell_type": "code",
      "metadata": {
        "id": "KJB6xwFF1WJG",
        "colab_type": "code",
        "colab": {
          "base_uri": "https://localhost:8080/",
          "height": 221
        },
        "outputId": "08f270fa-703c-44ad-8bb1-ed9b15587928"
      },
      "source": [
        "u = train_df[\"label\"].unique()\n",
        "trans = {n:i for i, n in enumerate(u)}\n",
        "trans_r = {i:n for i, n in enumerate(u)}\n",
        "y_train = train_df[\"label\"].replace(trans)\n",
        "y_test = test_df[\"label\"].replace(trans)"
      ],
      "execution_count": 37,
      "outputs": [
        {
          "output_type": "execute_result",
          "data": {
            "text/plain": [
              "0      0\n",
              "1      0\n",
              "2      0\n",
              "3      0\n",
              "4      0\n",
              "      ..\n",
              "96     9\n",
              "97     9\n",
              "98     9\n",
              "99     9\n",
              "100    9\n",
              "Name: label, Length: 101, dtype: int64"
            ]
          },
          "metadata": {
            "tags": []
          },
          "execution_count": 37
        }
      ]
    },
    {
      "cell_type": "code",
      "metadata": {
        "id": "Zw64_hnm1_Lk",
        "colab_type": "code",
        "colab": {
          "base_uri": "https://localhost:8080/",
          "height": 289
        },
        "outputId": "c8d49366-09da-4504-8f23-e1e4a1e64820"
      },
      "source": [
        "import jieba\n",
        "from urllib.request import urlretrieve\n",
        "url = \"https://github.com/fxsjy/jieba/raw/master/extra_dict/dict.txt.big\"\n",
        "urlretrieve(url, \"dict.txt.big\")\n",
        "jieba.set_dictionary(\"dict.txt.big\")\n",
        "def newscut(p):\n",
        "    return \" \".join(jieba.cut(p))\n",
        "x_train = train_df[\"content\"].apply(newscut)\n",
        "x_test = test_df[\"content\"].apply(newscut)\n",
        "x_test"
      ],
      "execution_count": 38,
      "outputs": [
        {
          "output_type": "stream",
          "text": [
            "Building prefix dict from /content/dict.txt.big ...\n",
            "Dumping model to file cache /tmp/jieba.u501edca284da514cb68b53a20324f4e3.cache\n",
            "Loading model cost 1.721 seconds.\n",
            "Prefix dict has been built successfully.\n"
          ],
          "name": "stderr"
        },
        {
          "output_type": "execute_result",
          "data": {
            "text/plain": [
              "0      美海軍 成功 演示 飛機 在 空中 控制 無人機 ( 附圖 )   \\n \\n ------...\n",
              "1      \\n 軍事 評論 ： “ 巴格達 之戰 ” 考驗 美軍 巷戰 武器裝備 ( 2 )   \\n...\n",
              "2      軍事 評論 ： 美英 聯軍 地面 作戰 裝備 特點 分析 ( 2 )   \\n \\n ---...\n",
              "3      在 伊拉克 戰爭 中 使用 的 空襲 精確 制導 彈藥 ( 1 )   \\n \\n ----...\n",
              "4      軍事 評論 ： 從 巷戰 或 地道戰 看 單兵 夜視 裝備 的 發展   \\n \\n ---...\n",
              "                             ...                        \n",
              "96                           楊 主席 提出 促進 中 拉關係 的 ５ 項 建...\n",
              "97                           阿拉伯 外長 會議 閉幕 \\n 新華社 巴格達 ...\n",
              "98                           外事 簡訊 \\n 新華社 北京 ５ 月 ２ ４ ...\n",
              "99                           第 ３ 次 安第斯集團 首腦會議 閉幕 \\n 新...\n",
              "100                  Ａ Ａ ０ ５ ５ \\n 金日成 指出 朝鮮 北方 堅持 以 聯...\n",
              "Name: content, Length: 101, dtype: object"
            ]
          },
          "metadata": {
            "tags": []
          },
          "execution_count": 38
        }
      ]
    },
    {
      "cell_type": "code",
      "metadata": {
        "id": "XA3r3dOK2r6m",
        "colab_type": "code",
        "colab": {}
      },
      "source": [
        "from sklearn.feature_extraction.text import CountVectorizer\n",
        "vec = CountVectorizer()\n",
        "x_train_count = vec.fit_transform(x_train)\n",
        "x_test_count = vec.transform(x_test)"
      ],
      "execution_count": 40,
      "outputs": []
    },
    {
      "cell_type": "code",
      "metadata": {
        "id": "ryYzNLOM3PV-",
        "colab_type": "code",
        "colab": {
          "base_uri": "https://localhost:8080/",
          "height": 34
        },
        "outputId": "2b98e6d7-cfe3-4ca2-efc3-011fbf8b3709"
      },
      "source": [
        "from sklearn.naive_bayes import MultinomialNB\n",
        "clf = MultinomialNB()\n",
        "clf.fit(x_train_count, y_train)"
      ],
      "execution_count": 41,
      "outputs": [
        {
          "output_type": "execute_result",
          "data": {
            "text/plain": [
              "MultinomialNB(alpha=1.0, class_prior=None, fit_prior=True)"
            ]
          },
          "metadata": {
            "tags": []
          },
          "execution_count": 41
        }
      ]
    },
    {
      "cell_type": "code",
      "metadata": {
        "id": "boOTkEcZ3cJO",
        "colab_type": "code",
        "colab": {
          "base_uri": "https://localhost:8080/",
          "height": 34
        },
        "outputId": "90ab9bcd-088d-4004-dcb4-a4b7362299d0"
      },
      "source": [
        "from sklearn.metrics import accuracy_score\n",
        "pre = clf.predict(x_test_count)\n",
        "accuracy_score(pre, y_test)"
      ],
      "execution_count": 42,
      "outputs": [
        {
          "output_type": "execute_result",
          "data": {
            "text/plain": [
              "1.0"
            ]
          },
          "metadata": {
            "tags": []
          },
          "execution_count": 42
        }
      ]
    },
    {
      "cell_type": "code",
      "metadata": {
        "id": "IUQwADvv3hNm",
        "colab_type": "code",
        "colab": {
          "base_uri": "https://localhost:8080/",
          "height": 359
        },
        "outputId": "d84b931f-0e67-41d1-d6dc-87cce470f2da"
      },
      "source": [
        "from sklearn.metrics import confusion_matrix\n",
        "mat = confusion_matrix(y_test, pre)\n",
        "pd.DataFrame(mat,\n",
        "      columns=[n+\"(預測)\" for n in u],\n",
        "      index=[n+\"(真實)\" for n in u])"
      ],
      "execution_count": 43,
      "outputs": [
        {
          "output_type": "execute_result",
          "data": {
            "text/html": [
              "<div>\n",
              "<style scoped>\n",
              "    .dataframe tbody tr th:only-of-type {\n",
              "        vertical-align: middle;\n",
              "    }\n",
              "\n",
              "    .dataframe tbody tr th {\n",
              "        vertical-align: top;\n",
              "    }\n",
              "\n",
              "    .dataframe thead th {\n",
              "        text-align: right;\n",
              "    }\n",
              "</style>\n",
              "<table border=\"1\" class=\"dataframe\">\n",
              "  <thead>\n",
              "    <tr style=\"text-align: right;\">\n",
              "      <th></th>\n",
              "      <th>軍事(預測)</th>\n",
              "      <th>交通(預測)</th>\n",
              "      <th>計算機(預測)</th>\n",
              "      <th>環境(預測)</th>\n",
              "      <th>藝術(預測)</th>\n",
              "      <th>醫藥(預測)</th>\n",
              "      <th>教育(預測)</th>\n",
              "      <th>經濟(預測)</th>\n",
              "      <th>體育(預測)</th>\n",
              "      <th>政治(預測)</th>\n",
              "    </tr>\n",
              "  </thead>\n",
              "  <tbody>\n",
              "    <tr>\n",
              "      <th>軍事(真實)</th>\n",
              "      <td>10</td>\n",
              "      <td>0</td>\n",
              "      <td>0</td>\n",
              "      <td>0</td>\n",
              "      <td>0</td>\n",
              "      <td>0</td>\n",
              "      <td>0</td>\n",
              "      <td>0</td>\n",
              "      <td>0</td>\n",
              "      <td>0</td>\n",
              "    </tr>\n",
              "    <tr>\n",
              "      <th>交通(真實)</th>\n",
              "      <td>0</td>\n",
              "      <td>10</td>\n",
              "      <td>0</td>\n",
              "      <td>0</td>\n",
              "      <td>0</td>\n",
              "      <td>0</td>\n",
              "      <td>0</td>\n",
              "      <td>0</td>\n",
              "      <td>0</td>\n",
              "      <td>0</td>\n",
              "    </tr>\n",
              "    <tr>\n",
              "      <th>計算機(真實)</th>\n",
              "      <td>0</td>\n",
              "      <td>0</td>\n",
              "      <td>10</td>\n",
              "      <td>0</td>\n",
              "      <td>0</td>\n",
              "      <td>0</td>\n",
              "      <td>0</td>\n",
              "      <td>0</td>\n",
              "      <td>0</td>\n",
              "      <td>0</td>\n",
              "    </tr>\n",
              "    <tr>\n",
              "      <th>環境(真實)</th>\n",
              "      <td>0</td>\n",
              "      <td>0</td>\n",
              "      <td>0</td>\n",
              "      <td>10</td>\n",
              "      <td>0</td>\n",
              "      <td>0</td>\n",
              "      <td>0</td>\n",
              "      <td>0</td>\n",
              "      <td>0</td>\n",
              "      <td>0</td>\n",
              "    </tr>\n",
              "    <tr>\n",
              "      <th>藝術(真實)</th>\n",
              "      <td>0</td>\n",
              "      <td>0</td>\n",
              "      <td>0</td>\n",
              "      <td>0</td>\n",
              "      <td>10</td>\n",
              "      <td>0</td>\n",
              "      <td>0</td>\n",
              "      <td>0</td>\n",
              "      <td>0</td>\n",
              "      <td>0</td>\n",
              "    </tr>\n",
              "    <tr>\n",
              "      <th>醫藥(真實)</th>\n",
              "      <td>0</td>\n",
              "      <td>0</td>\n",
              "      <td>0</td>\n",
              "      <td>0</td>\n",
              "      <td>0</td>\n",
              "      <td>10</td>\n",
              "      <td>0</td>\n",
              "      <td>0</td>\n",
              "      <td>0</td>\n",
              "      <td>0</td>\n",
              "    </tr>\n",
              "    <tr>\n",
              "      <th>教育(真實)</th>\n",
              "      <td>0</td>\n",
              "      <td>0</td>\n",
              "      <td>0</td>\n",
              "      <td>0</td>\n",
              "      <td>0</td>\n",
              "      <td>0</td>\n",
              "      <td>10</td>\n",
              "      <td>0</td>\n",
              "      <td>0</td>\n",
              "      <td>0</td>\n",
              "    </tr>\n",
              "    <tr>\n",
              "      <th>經濟(真實)</th>\n",
              "      <td>0</td>\n",
              "      <td>0</td>\n",
              "      <td>0</td>\n",
              "      <td>0</td>\n",
              "      <td>0</td>\n",
              "      <td>0</td>\n",
              "      <td>0</td>\n",
              "      <td>10</td>\n",
              "      <td>0</td>\n",
              "      <td>0</td>\n",
              "    </tr>\n",
              "    <tr>\n",
              "      <th>體育(真實)</th>\n",
              "      <td>0</td>\n",
              "      <td>0</td>\n",
              "      <td>0</td>\n",
              "      <td>0</td>\n",
              "      <td>0</td>\n",
              "      <td>0</td>\n",
              "      <td>0</td>\n",
              "      <td>0</td>\n",
              "      <td>10</td>\n",
              "      <td>0</td>\n",
              "    </tr>\n",
              "    <tr>\n",
              "      <th>政治(真實)</th>\n",
              "      <td>0</td>\n",
              "      <td>0</td>\n",
              "      <td>0</td>\n",
              "      <td>0</td>\n",
              "      <td>0</td>\n",
              "      <td>0</td>\n",
              "      <td>0</td>\n",
              "      <td>0</td>\n",
              "      <td>0</td>\n",
              "      <td>11</td>\n",
              "    </tr>\n",
              "  </tbody>\n",
              "</table>\n",
              "</div>"
            ],
            "text/plain": [
              "         軍事(預測)  交通(預測)  計算機(預測)  環境(預測)  ...  教育(預測)  經濟(預測)  體育(預測)  政治(預測)\n",
              "軍事(真實)       10       0        0       0  ...       0       0       0       0\n",
              "交通(真實)        0      10        0       0  ...       0       0       0       0\n",
              "計算機(真實)       0       0       10       0  ...       0       0       0       0\n",
              "環境(真實)        0       0        0      10  ...       0       0       0       0\n",
              "藝術(真實)        0       0        0       0  ...       0       0       0       0\n",
              "醫藥(真實)        0       0        0       0  ...       0       0       0       0\n",
              "教育(真實)        0       0        0       0  ...      10       0       0       0\n",
              "經濟(真實)        0       0        0       0  ...       0      10       0       0\n",
              "體育(真實)        0       0        0       0  ...       0       0      10       0\n",
              "政治(真實)        0       0        0       0  ...       0       0       0      11\n",
              "\n",
              "[10 rows x 10 columns]"
            ]
          },
          "metadata": {
            "tags": []
          },
          "execution_count": 43
        }
      ]
    },
    {
      "cell_type": "code",
      "metadata": {
        "id": "6Xxq_Cos3kBP",
        "colab_type": "code",
        "colab": {
          "base_uri": "https://localhost:8080/",
          "height": 241
        },
        "outputId": "503b8185-bddc-45e7-c94c-a817379e245e"
      },
      "source": [
        "test = input(\"輸入一篇新聞:\")\n",
        "count = vec.transform([newscut(test)])\n",
        "answer = clf.predict(count)[0]\n",
        "proba = clf.predict_proba(count)[0]\n",
        "for name, p in zip(u, proba):\n",
        "    print(name, \"的機率:\", p)\n",
        "print(\"答案:\", trans_r[answer])"
      ],
      "execution_count": 44,
      "outputs": [
        {
          "output_type": "stream",
          "text": [
            "輸入一篇新聞:美國媒體報導，美國國務卿蓬佩奧訪問倫敦期間告訴英國國會議員，有可靠情資顯示中國與譚德塞達成一項協議，以助他當上世衛秘書長；這項協議也影響世衛決策，導致2019冠狀病毒疾病（COVID-19）疫情期間有許多英國人喪命。（看完整報導）\n",
            "軍事 的機率: 0.8696426870922035\n",
            "交通 的機率: 5.921834555115776e-09\n",
            "計算機 的機率: 0.007874033477415792\n",
            "環境 的機率: 1.5758417133688261e-06\n",
            "藝術 的機率: 1.869200062734955e-10\n",
            "醫藥 的機率: 5.081090366278561e-11\n",
            "教育 的機率: 1.4836619012147777e-10\n",
            "經濟 的機率: 0.08069028706545726\n",
            "體育 的機率: 1.2051484537374535e-09\n",
            "政治 的機率: 0.0417914090101138\n",
            "答案: 軍事\n"
          ],
          "name": "stdout"
        }
      ]
    }
  ]
}